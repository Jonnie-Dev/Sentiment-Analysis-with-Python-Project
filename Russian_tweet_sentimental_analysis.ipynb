{
 "cells": [
  {
   "cell_type": "markdown",
   "id": "bc3e52ae-1da0-45c5-9e1a-33fe11d0ab46",
   "metadata": {},
   "source": [
    "# AI/ML with Python: Sentiment Analysis"
   ]
  },
  {
   "cell_type": "markdown",
   "id": "1d1d6892-6d8d-4514-98c7-4887299684e7",
   "metadata": {},
   "source": [
    "### Step1: Data Acquisition\n",
    "\n",
    "#### Detail the process of gathering data for your chosen project. This could involve employing web scraping techniques or utilizing existing APIs to gather the needed information. Alternatively, you have the option to search for pre-existing datasets available online."
   ]
  },
  {
   "cell_type": "markdown",
   "id": "b760ccdb-8c60-449d-90f2-a79a4003335f",
   "metadata": {},
   "source": [
    "##### To find data for this Sentimental Analysis Quest, I looked for existing datasets online. I discovered a useful dataset called \"Russian Troll Tweets\" on Kaggle, available on GitHub. Using this ready-made dataset made the process easier and quicker."
   ]
  },
  {
   "cell_type": "code",
   "execution_count": 1,
   "id": "f2433176-ecd2-4b51-b632-ef717447e50c",
   "metadata": {},
   "outputs": [
    {
     "name": "stderr",
     "output_type": "stream",
     "text": [
      "/tmp/ipykernel_28064/2301145722.py:17: DtypeWarning: Columns (0,15,20) have mixed types. Specify dtype option on import or set low_memory=False.\n",
      "  df = pd.read_csv(file_path)\n",
      "/tmp/ipykernel_28064/2301145722.py:17: DtypeWarning: Columns (20) have mixed types. Specify dtype option on import or set low_memory=False.\n",
      "  df = pd.read_csv(file_path)\n"
     ]
    }
   ],
   "source": [
    "## Initial Data Exploration\n",
    "import pandas as pd\n",
    "import os\n",
    "\n",
    "# Load the Russian troll tweets dataset\n",
    "folder_path = 'russian-troll-tweets-master/'\n",
    "\n",
    "# Initialize an empty DataFrame to store the concatenated data\n",
    "concatenated_df = pd.DataFrame()\n",
    "\n",
    "# Iterate through files in the folder\n",
    "for i in range(1, 11):  # Assuming you have files up to tweet10.csv\n",
    "    # Construct the file path\n",
    "    file_path = os.path.join(folder_path, f'IRAhandle_tweets_{i}.csv')\n",
    "    \n",
    "    # Read the CSV file into a DataFrame\n",
    "    df = pd.read_csv(file_path)\n",
    "    \n",
    "    # Concatenate the current DataFrame to the overall DataFrame\n",
    "    concatenated_df = pd.concat([concatenated_df, df], ignore_index=True)\n",
    "\n",
    "# reassign concatenated_df to new_df\n",
    "new_df = concatenated_df\n"
   ]
  },
  {
   "cell_type": "markdown",
   "id": "0e7f785a-5406-4ab8-aeba-29d9714fa50e",
   "metadata": {},
   "source": [
    "### Step 2: Data Processing and Cleaning\n",
    "\n",
    "#### Outline the procedures for cleaning and processing your data, utilizing techniques like tokenization, bag of words, or word embeddings, which we have discussed previously. However, if you have developed your own unique methods for this purpose, feel free to implement them instead."
   ]
  },
  {
   "cell_type": "code",
   "execution_count": 2,
   "id": "7b57947d-636a-47b8-a045-4856b694042a",
   "metadata": {
    "scrolled": true
   },
   "outputs": [
    {
     "name": "stdout",
     "output_type": "stream",
     "text": [
      "        external_author_id        author  \\\n",
      "2435337         2611151319  SEATTLE_POST   \n",
      "2435338         2611151319  SEATTLE_POST   \n",
      "2435339         2611151319  SEATTLE_POST   \n",
      "2435340         2611151319  SEATTLE_POST   \n",
      "2435341         2611151319  SEATTLE_POST   \n",
      "\n",
      "                                                   content         region  \\\n",
      "2435337  Report: Facebook’s unmanned aircraft crashed i...  United States   \n",
      "2435338  Mom’s great catch at Redmond skating rink http...  United States   \n",
      "2435339  Inside the DEA: A chemist’s quest to identify ...  United States   \n",
      "2435340  Seahawks opponent outlook: St. Louis Rams  #sp...  United States   \n",
      "2435341           What to do if the power goes out  #local  United States   \n",
      "\n",
      "        language     publish_date   harvested_date  following  followers  \\\n",
      "2435337  English  12/21/2016 2:11  12/21/2016 2:11       5074      17091   \n",
      "2435338  English  12/21/2016 4:23  12/21/2016 4:24       5074      17091   \n",
      "2435339  English  12/21/2016 9:23  12/21/2016 9:23       5073      17092   \n",
      "2435340  English  12/22/2015 0:11  12/22/2015 0:11       4888      12649   \n",
      "2435341  English  12/22/2015 0:30  12/22/2015 0:30       4888      12649   \n",
      "\n",
      "         updates  ... account_type retweet  account_category new_june_2018  \\\n",
      "2435337    26588  ...        local       0          NewsFeed             0   \n",
      "2435338    26589  ...        local       0          NewsFeed             0   \n",
      "2435339    26590  ...        local       0          NewsFeed             0   \n",
      "2435340    15443  ...        local       0          NewsFeed             0   \n",
      "2435341    15444  ...        local       0          NewsFeed             0   \n",
      "\n",
      "         alt_external_id            tweet_id  \\\n",
      "2435337       2611151319  811393543830982656   \n",
      "2435338       2611151319  811426831270367232   \n",
      "2435339       2611151319  811502258705862656   \n",
      "2435340       2611151319  679091750112227328   \n",
      "2435341       2611151319  679096636040019968   \n",
      "\n",
      "                                               article_url  \\\n",
      "2435337  http://twitter.com/2611151319/statuses/8113935...   \n",
      "2435338  http://twitter.com/2611151319/statuses/8114268...   \n",
      "2435339  http://twitter.com/2611151319/statuses/8115022...   \n",
      "2435340  http://twitter.com/Seattle_Post/statuses/67909...   \n",
      "2435341  http://twitter.com/Seattle_Post/statuses/67909...   \n",
      "\n",
      "                                                tco1_step1  \\\n",
      "2435337  https://twitter.com/Seattle_Post/status/811393...   \n",
      "2435338  https://twitter.com/Seattle_Post/status/811426...   \n",
      "2435339  https://twitter.com/Seattle_Post/status/811502...   \n",
      "2435340                                                NaN   \n",
      "2435341                                                NaN   \n",
      "\n",
      "                                                tco2_step1 tco3_step1  \n",
      "2435337  http://www.seattletimes.com/business/report-fa...        NaN  \n",
      "2435338  http://www.seattletimes.com/seattle-news/moms-...        NaN  \n",
      "2435339  http://www.seattletimes.com/nation-world/natio...        NaN  \n",
      "2435340                                                NaN        NaN  \n",
      "2435341                                                NaN        NaN  \n",
      "\n",
      "[5 rows x 21 columns]\n"
     ]
    }
   ],
   "source": [
    "# Filter off dataframes without the \"content\" column\n",
    "filtered_df = new_df.dropna(subset=['content'])\n",
    "\n",
    "# Display the cleaned DataFrame\n",
    "print(filtered_df.tail())"
   ]
  },
  {
   "cell_type": "code",
   "execution_count": 3,
   "id": "edacdc06-7f27-4274-8c60-ae12e46c92f5",
   "metadata": {
    "scrolled": true
   },
   "outputs": [
    {
     "name": "stdout",
     "output_type": "stream",
     "text": [
      "                                                   content  followers  \\\n",
      "0        \"We have a sitting Democrat US Senator on tria...       9636   \n",
      "1        Marshawn Lynch arrives to game in anti-Trump s...       9637   \n",
      "2        Daughter of fallen Navy Sailor delivers powerf...       9637   \n",
      "3        JUST IN: President Trump dedicates Presidents ...       9642   \n",
      "4        19,000 RESPECTING our National Anthem! #StandF...       9645   \n",
      "...                                                    ...        ...   \n",
      "2435337  Report: Facebook’s unmanned aircraft crashed i...      17091   \n",
      "2435338  Mom’s great catch at Redmond skating rink http...      17091   \n",
      "2435339  Inside the DEA: A chemist’s quest to identify ...      17092   \n",
      "2435340  Seahawks opponent outlook: St. Louis Rams  #sp...      12649   \n",
      "2435341           What to do if the power goes out  #local      12649   \n",
      "\n",
      "         following  \n",
      "0             1052  \n",
      "1             1054  \n",
      "2             1054  \n",
      "3             1062  \n",
      "4             1050  \n",
      "...            ...  \n",
      "2435337       5074  \n",
      "2435338       5074  \n",
      "2435339       5073  \n",
      "2435340       4888  \n",
      "2435341       4888  \n",
      "\n",
      "[2435342 rows x 3 columns]\n"
     ]
    }
   ],
   "source": [
    "columns_to_keep = ['content', 'followers', 'following']\n",
    "\n",
    "# Create a new DataFrame with only the specified columns\n",
    "cleaned_df = new_df[columns_to_keep].copy()\n",
    "\n",
    "# Display the cleaned DataFrame\n",
    "print(cleaned_df)"
   ]
  },
  {
   "cell_type": "code",
   "execution_count": 8,
   "id": "1a2cd4c8-6917-4da6-a843-369453a1f7df",
   "metadata": {
    "scrolled": true
   },
   "outputs": [
    {
     "name": "stdout",
     "output_type": "stream",
     "text": [
      "                                               content  \\\n",
      "0    \"We have a sitting Democrat US Senator on tria...   \n",
      "1    Marshawn Lynch arrives to game in anti-Trump s...   \n",
      "2    Daughter of fallen Navy Sailor delivers powerf...   \n",
      "3    JUST IN: President Trump dedicates Presidents ...   \n",
      "5    Dan Bongino: \"Nobody trolls liberals better th...   \n",
      "..                                                 ...   \n",
      "995  Stragi naziste: Italia condanna, Berlino lasci...   \n",
      "996  Dal dissesto idrogeologico allo sviluppo, a Ro...   \n",
      "997  #Profumo approda a #Finmeccanica per finire l'...   \n",
      "998  #MotoGP: Vinales è in forma Mondiale, Rossi&am...   \n",
      "999  Via col voucher: gli irriducibili che giocano ...   \n",
      "\n",
      "                                     processed_content  followers  following  \n",
      "0    [sit, democrat, us, senat, trial, corrupt, bar...       9636       1052  \n",
      "1    [marshawn, lynch, arriv, game, shirt, judg, sa...       9637       1054  \n",
      "2    [daughter, fallen, navi, sailor, deliv, power,...       9637       1054  \n",
      "3    [presid, trump, dedic, presid, cup, golf, tour...       9642       1062  \n",
      "5    [dan, bongino, nobodi, troll, liber, better, d...       9644       1050  \n",
      "..                                                 ...        ...        ...  \n",
      "995  [stragi, nazist, italia, condanna, berlino, la...         81        411  \n",
      "996  [dal, dissesto, idrogeologico, allo, sviluppo,...         81        411  \n",
      "997  [profumo, approda, finmeccanica, per, finir, d...         81        411  \n",
      "998  [motogp, vinal, è, forma, mondial, rossi, amp,...         81        411  \n",
      "999  [via, col, voucher, gli, irriducibili, che, gi...         81        411  \n",
      "\n",
      "[869 rows x 4 columns]\n"
     ]
    }
   ],
   "source": [
    "# Further data cleaning using tokenization, lowercasing and punctation removal, stopword removal, stemming and short word filtering\n",
    "\n",
    "import pandas as pd\n",
    "from nltk.tokenize import word_tokenize\n",
    "from nltk.corpus import stopwords\n",
    "from nltk.stem import PorterStemmer\n",
    "import string\n",
    "\n",
    "data = cleaned_df\n",
    "df = pd.DataFrame(data)\n",
    "\n",
    "# to limit the dataframe due to insufficient ptocessing power for the 2m+ df rows\n",
    "df = df.head(100000)\n",
    "\n",
    "# Function for text processing\n",
    "def process_text(text):\n",
    "    # Tokenization\n",
    "    tokens = word_tokenize(text)\n",
    "    \n",
    "    # Remove punctuation and convert to lowercase\n",
    "    tokens = [word.lower() for word in tokens if word.isalpha()]\n",
    "    \n",
    "    # Remove stopwords\n",
    "    stop_words = set(stopwords.words('english'))\n",
    "    tokens = [word for word in tokens if word not in stop_words]\n",
    "    \n",
    "    # Stemming (you can choose to include this or not)\n",
    "    stemmer = PorterStemmer()\n",
    "    tokens = [stemmer.stem(word) for word in tokens]\n",
    "    \n",
    "    return tokens\n",
    "\n",
    "# Function to filter out 5-worded tweets\n",
    "def filter_short_tweets(tokens):\n",
    "    return len(tokens) > 5\n",
    "\n",
    "# Apply text processing to the 'content' column\n",
    "df['processed_content'] = df['content'].apply(process_text)\n",
    "\n",
    "# Filter out 5-worded tweets\n",
    "df = df[df['processed_content'].apply(filter_short_tweets)]\n",
    "\n",
    "# Display the cleaned DataFrame\n",
    "print(df[['content', 'processed_content', 'followers', 'following']])\n"
   ]
  },
  {
   "cell_type": "markdown",
   "id": "0f0fa07a-9bb6-442b-a5c0-f08ecec4d787",
   "metadata": {},
   "source": [
    "### Sentiment Analysis Implementation\n",
    "\n",
    "#### Use Python libraries (like NLTK, TextBlob, or others) to perform sentiment analysis."
   ]
  },
  {
   "cell_type": "code",
   "execution_count": 9,
   "id": "534bb11e-bcad-4b6b-b929-0bf0ca10e4d2",
   "metadata": {},
   "outputs": [
    {
     "name": "stderr",
     "output_type": "stream",
     "text": [
      "[nltk_data] Downloading package vader_lexicon to\n",
      "[nltk_data]     /home/j3ech/nltk_data...\n",
      "[nltk_data]   Package vader_lexicon is already up-to-date!\n"
     ]
    },
    {
     "name": "stdout",
     "output_type": "stream",
     "text": [
      "                                               content  \\\n",
      "0    \"We have a sitting Democrat US Senator on tria...   \n",
      "1    Marshawn Lynch arrives to game in anti-Trump s...   \n",
      "2    Daughter of fallen Navy Sailor delivers powerf...   \n",
      "3    JUST IN: President Trump dedicates Presidents ...   \n",
      "5    Dan Bongino: \"Nobody trolls liberals better th...   \n",
      "..                                                 ...   \n",
      "995  Stragi naziste: Italia condanna, Berlino lasci...   \n",
      "996  Dal dissesto idrogeologico allo sviluppo, a Ro...   \n",
      "997  #Profumo approda a #Finmeccanica per finire l'...   \n",
      "998  #MotoGP: Vinales è in forma Mondiale, Rossi&am...   \n",
      "999  Via col voucher: gli irriducibili che giocano ...   \n",
      "\n",
      "                                     processed_content sentiment  followers  \\\n",
      "0    [sit, democrat, us, senat, trial, corrupt, bar...   Neutral       9636   \n",
      "1    [marshawn, lynch, arriv, game, shirt, judg, sa...   Neutral       9637   \n",
      "2    [daughter, fallen, navi, sailor, deliv, power,...  Negative       9637   \n",
      "3    [presid, trump, dedic, presid, cup, golf, tour...   Neutral       9642   \n",
      "5    [dan, bongino, nobodi, troll, liber, better, d...  Positive       9644   \n",
      "..                                                 ...       ...        ...   \n",
      "995  [stragi, nazist, italia, condanna, berlino, la...   Neutral         81   \n",
      "996  [dal, dissesto, idrogeologico, allo, sviluppo,...   Neutral         81   \n",
      "997  [profumo, approda, finmeccanica, per, finir, d...   Neutral         81   \n",
      "998  [motogp, vinal, è, forma, mondial, rossi, amp,...   Neutral         81   \n",
      "999  [via, col, voucher, gli, irriducibili, che, gi...   Neutral         81   \n",
      "\n",
      "     following  \n",
      "0         1052  \n",
      "1         1054  \n",
      "2         1054  \n",
      "3         1062  \n",
      "5         1050  \n",
      "..         ...  \n",
      "995        411  \n",
      "996        411  \n",
      "997        411  \n",
      "998        411  \n",
      "999        411  \n",
      "\n",
      "[869 rows x 5 columns]\n"
     ]
    }
   ],
   "source": [
    "# Using nltk\n",
    "nltk.download('vader_lexicon')\n",
    "\n",
    "import nltk\n",
    "from nltk.sentiment.vader import SentimentIntensityAnalyzer\n",
    "\n",
    "# Function for sentiment analysis\n",
    "def analyze_sentiment(text):\n",
    "    sid = SentimentIntensityAnalyzer()\n",
    "    sentiment_score = sid.polarity_scores(text)['compound']\n",
    "    \n",
    "    # Classify as positive, negative, or neutral based on the compound score\n",
    "    if sentiment_score >= 0.05:\n",
    "        return 'Positive'\n",
    "    elif sentiment_score <= -0.05:\n",
    "        return 'Negative'\n",
    "    else:\n",
    "        return 'Neutral'\n",
    "\n",
    "# Apply sentiment analysis to the 'content' column\n",
    "df['sentiment'] = df['content'].apply(analyze_sentiment)\n",
    "\n",
    "# Display the DataFrame with sentiment analysis results\n",
    "print(df[['content', 'processed_content', 'sentiment', 'followers', 'following']])"
   ]
  },
  {
   "cell_type": "markdown",
   "id": "59e26823-6ccd-4392-90bf-dc7a96dad27c",
   "metadata": {},
   "source": [
    "### Results Visualization\n",
    "\n",
    "#### Present the outcomes in formats that are straightforward and easy to comprehend, like using charts or graphs. You can achieve this through tools like Matplotlib, as we explored in the previous quest."
   ]
  },
  {
   "cell_type": "code",
   "execution_count": 10,
   "id": "ff2841fa-f29d-420d-812d-88b44d3d7516",
   "metadata": {},
   "outputs": [
    {
     "data": {
      "image/png": "[encoded data removed]",
      "text/plain": [
       "<Figure size 640x480 with 1 Axes>"
      ]
     },
     "metadata": {},
     "output_type": "display_data"
    }
   ],
   "source": [
    "# Visualization\n",
    "import matplotlib.pyplot as plt\n",
    "\n",
    "sentiment_counts = df['sentiment'].value_counts()\n",
    "\n",
    "plt.bar(sentiment_counts.index, sentiment_counts.values, color=['green', 'red', 'gray'])\n",
    "plt.title('Sentiment Distribution')\n",
    "plt.xlabel('Sentiment')\n",
    "plt.ylabel('Count')\n",
    "plt.show()"
   ]
  },
  {
   "cell_type": "code",
   "execution_count": null,
   "id": "66c6e7da-a6e8-4c4b-8409-c24046184835",
   "metadata": {},
   "outputs": [],
   "source": []
  },
  {
   "cell_type": "markdown",
   "id": "de877e42-bd00-4934-a79f-8165da857bff",
   "metadata": {},
   "source": [
    "In my project, I looked at tweets from a group of Russian troll accounts to figure out if the tweets were positive, negative, or neutral. I got this set of tweets from the internet, specifically Kaggle, where people share datasets. I found the dataset on GitHub.\n",
    "Before I could analyze the tweets, I had to clean up the data. I used a tool called NLTK to help me with this. It helped me break down the tweets into smaller parts, remove unimportant words, and make everything more straightforward.\n",
    "Once the data was ready, I used NLTK again to analyze the sentiment of each tweet. Sentiment is like the mood of the text, whether it's happy, sad, or just neutral. I then showed the results in a simple bar chart using Matplotlib. This chart helped me see how many tweets were positive, negative, or neutral.\n",
    "\n",
    "I would like to express my gratitude to ChatGPT for assisting me throughout this project. ChatGPT provided me with valuable guidance and less stress wit handling bugs and error messages.\n",
    "Additionally, I extend my thanks to [FiveThirtyEight](https://github.com/fivethirtyeight/russian-troll-tweets) the owner of the dataset repository on GitHub, for sharing the Russian troll tweets dataset\n",
    "\n",
    "In a nutshell, I explored tweets from Russian troll accounts, cleaned up the data, figured out if the tweets were happy or sad, and then made a chart to show the results. It's like trying to understand the feelings behind the words people write online!"
   ]
  }
 ],
 "metadata": {
  "kernelspec": {
   "display_name": "Python 3 (ipykernel)",
   "language": "python",
   "name": "python3"
  },
  "language_info": {
   "codemirror_mode": {
    "name": "ipython",
    "version": 3
   },
   "file_extension": ".py",
   "mimetype": "text/x-python",
   "name": "python",
   "nbconvert_exporter": "python",
   "pygments_lexer": "ipython3",
   "version": "3.10.12"
  }
 },
 "nbformat": 4,
 "nbformat_minor": 5
}
